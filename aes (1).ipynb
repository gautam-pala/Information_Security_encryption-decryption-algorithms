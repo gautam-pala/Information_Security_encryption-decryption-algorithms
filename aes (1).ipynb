{
  "nbformat": 4,
  "nbformat_minor": 0,
  "metadata": {
    "colab": {
      "name": "aes.ipynb",
      "provenance": []
    },
    "kernelspec": {
      "name": "python3",
      "display_name": "Python 3"
    },
    "accelerator": "GPU"
  },
  "cells": [
    {
      "cell_type": "code",
      "metadata": {
        "id": "3Lvih9VJqF_3",
        "colab_type": "code",
        "outputId": "f8541414-94df-4ef6-f46e-ee487978cec4",
        "colab": {
          "base_uri": "https://localhost:8080/",
          "height": 207
        }
      },
      "source": [
        "pip install pycrypto"
      ],
      "execution_count": 0,
      "outputs": [
        {
          "output_type": "stream",
          "text": [
            "Collecting pycrypto\n",
            "\u001b[?25l  Downloading https://files.pythonhosted.org/packages/60/db/645aa9af249f059cc3a368b118de33889219e0362141e75d4eaf6f80f163/pycrypto-2.6.1.tar.gz (446kB)\n",
            "\r\u001b[K     |▊                               | 10kB 23.0MB/s eta 0:00:01\r\u001b[K     |█▌                              | 20kB 4.1MB/s eta 0:00:01\r\u001b[K     |██▏                             | 30kB 5.9MB/s eta 0:00:01\r\u001b[K     |███                             | 40kB 7.5MB/s eta 0:00:01\r\u001b[K     |███▊                            | 51kB 4.8MB/s eta 0:00:01\r\u001b[K     |████▍                           | 61kB 5.6MB/s eta 0:00:01\r\u001b[K     |█████▏                          | 71kB 6.4MB/s eta 0:00:01\r\u001b[K     |█████▉                          | 81kB 7.1MB/s eta 0:00:01\r\u001b[K     |██████▋                         | 92kB 7.7MB/s eta 0:00:01\r\u001b[K     |███████▍                        | 102kB 6.2MB/s eta 0:00:01\r\u001b[K     |████████                        | 112kB 6.2MB/s eta 0:00:01\r\u001b[K     |████████▉                       | 122kB 6.2MB/s eta 0:00:01\r\u001b[K     |█████████▌                      | 133kB 6.2MB/s eta 0:00:01\r\u001b[K     |██████████▎                     | 143kB 6.2MB/s eta 0:00:01\r\u001b[K     |███████████                     | 153kB 6.2MB/s eta 0:00:01\r\u001b[K     |███████████▊                    | 163kB 6.2MB/s eta 0:00:01\r\u001b[K     |████████████▌                   | 174kB 6.2MB/s eta 0:00:01\r\u001b[K     |█████████████▏                  | 184kB 6.2MB/s eta 0:00:01\r\u001b[K     |██████████████                  | 194kB 6.2MB/s eta 0:00:01\r\u001b[K     |██████████████▊                 | 204kB 6.2MB/s eta 0:00:01\r\u001b[K     |███████████████▍                | 215kB 6.2MB/s eta 0:00:01\r\u001b[K     |████████████████▏               | 225kB 6.2MB/s eta 0:00:01\r\u001b[K     |█████████████████               | 235kB 6.2MB/s eta 0:00:01\r\u001b[K     |█████████████████▋              | 245kB 6.2MB/s eta 0:00:01\r\u001b[K     |██████████████████▍             | 256kB 6.2MB/s eta 0:00:01\r\u001b[K     |███████████████████             | 266kB 6.2MB/s eta 0:00:01\r\u001b[K     |███████████████████▉            | 276kB 6.2MB/s eta 0:00:01\r\u001b[K     |████████████████████▋           | 286kB 6.2MB/s eta 0:00:01\r\u001b[K     |█████████████████████▎          | 296kB 6.2MB/s eta 0:00:01\r\u001b[K     |██████████████████████          | 307kB 6.2MB/s eta 0:00:01\r\u001b[K     |██████████████████████▊         | 317kB 6.2MB/s eta 0:00:01\r\u001b[K     |███████████████████████▌        | 327kB 6.2MB/s eta 0:00:01\r\u001b[K     |████████████████████████▎       | 337kB 6.2MB/s eta 0:00:01\r\u001b[K     |█████████████████████████       | 348kB 6.2MB/s eta 0:00:01\r\u001b[K     |█████████████████████████▊      | 358kB 6.2MB/s eta 0:00:01\r\u001b[K     |██████████████████████████▍     | 368kB 6.2MB/s eta 0:00:01\r\u001b[K     |███████████████████████████▏    | 378kB 6.2MB/s eta 0:00:01\r\u001b[K     |████████████████████████████    | 389kB 6.2MB/s eta 0:00:01\r\u001b[K     |████████████████████████████▋   | 399kB 6.2MB/s eta 0:00:01\r\u001b[K     |█████████████████████████████▍  | 409kB 6.2MB/s eta 0:00:01\r\u001b[K     |██████████████████████████████  | 419kB 6.2MB/s eta 0:00:01\r\u001b[K     |██████████████████████████████▉ | 430kB 6.2MB/s eta 0:00:01\r\u001b[K     |███████████████████████████████▋| 440kB 6.2MB/s eta 0:00:01\r\u001b[K     |████████████████████████████████| 450kB 6.2MB/s \n",
            "\u001b[?25hBuilding wheels for collected packages: pycrypto\n",
            "  Building wheel for pycrypto (setup.py) ... \u001b[?25l\u001b[?25hdone\n",
            "  Created wheel for pycrypto: filename=pycrypto-2.6.1-cp36-cp36m-linux_x86_64.whl size=499957 sha256=5f91d537fcffb0518811c27bec81b57c9c70fa3095d22b0a212da9406f876686\n",
            "  Stored in directory: /root/.cache/pip/wheels/27/02/5e/77a69d0c16bb63c6ed32f5386f33a2809c94bd5414a2f6c196\n",
            "Successfully built pycrypto\n",
            "Installing collected packages: pycrypto\n",
            "Successfully installed pycrypto-2.6.1\n"
          ],
          "name": "stdout"
        }
      ]
    },
    {
      "cell_type": "code",
      "metadata": {
        "id": "wnKjU8PquiU4",
        "colab_type": "code",
        "outputId": "39a38ab1-24c2-4e4a-a2c6-216d1d6bbc82",
        "colab": {
          "base_uri": "https://localhost:8080/",
          "height": 51
        }
      },
      "source": [
        "BS = 16\n",
        "\n",
        "\n",
        "def pad(s):\n",
        "    return s + (BS - len(s) % BS) * chr(BS - len(s) % BS)\n",
        "\n",
        "def unpad(s):\n",
        "    return s[:-ord(s[len(s)-1:])]\n",
        "\n",
        "\n",
        "s=\"Gautam_Pala\"\n",
        "s1=pad(s)\n",
        "print(s1)\n",
        "s2=unpad(s1)\n",
        "print(s2)"
      ],
      "execution_count": 0,
      "outputs": [
        {
          "output_type": "stream",
          "text": [
            "Gautam_Pala\u0005\u0005\u0005\u0005\u0005\n",
            "Gautam_Pala\n"
          ],
          "name": "stdout"
        }
      ]
    },
    {
      "cell_type": "code",
      "metadata": {
        "id": "_Ng4uIlrpAC9",
        "colab_type": "code",
        "colab": {}
      },
      "source": [
        "import base64\n",
        "from Crypto.Cipher import AES\n",
        "from Crypto import Random\n",
        "\n",
        "\n",
        "BS = 16\n",
        "\n",
        "\n",
        "def pad(s):\n",
        "    return s + (BS - len(s) % BS) * chr(BS - len(s) % BS)\n",
        "\n",
        "\n",
        "def unpad(s):\n",
        "    return s[:-ord(s[len(s)-1:])]\n",
        "\n",
        "\n",
        "class AESCipher(object):\n",
        "    def __init__(self, key):\n",
        "        self.key = key\n",
        "\n",
        "    def encrypt(self, raw):\n",
        "        raw = pad(raw)\n",
        "        iv = Random.new().read(AES.block_size)\n",
        "        cipher = AES.new(self.key, AES.MODE_CBC, iv)\n",
        "        return base64.b64encode(iv + cipher.encrypt(raw))\n",
        "\n",
        "    def decrypt(self, enc):\n",
        "        enc = base64.b64decode(enc)\n",
        "        iv = enc[:16]\n",
        "        cipher = AES.new(self.key, AES.MODE_CBC, iv)\n",
        "        return unpad(cipher.decrypt(enc[16:]))\n"
      ],
      "execution_count": 0,
      "outputs": []
    },
    {
      "cell_type": "code",
      "metadata": {
        "id": "YVwjTZ6LqDFR",
        "colab_type": "code",
        "outputId": "121b7850-4818-41ad-a4f8-a1b955bbebcf",
        "colab": {
          "base_uri": "https://localhost:8080/",
          "height": 85
        }
      },
      "source": [
        "salt = '!%F=-?Pst970'\n",
        "key32 = \"\".join([ ' ' if i >= len(salt) else salt[i] for i in range(32) ])\n",
        "bkey32 = key32.encode('utf-8')\n",
        "print(key32)\n",
        "print(bkey32)\n",
        "\n",
        "aes_cipher = AESCipher(bkey32)\n",
        "\n",
        "text = 'Gautam Pala'\n",
        "encrypted_text = aes_cipher.encrypt(text)\n",
        "print(encrypted_text)\n",
        "text1= aes_cipher.decrypt(encrypted_text)\n",
        "print(text1)"
      ],
      "execution_count": 0,
      "outputs": [
        {
          "output_type": "stream",
          "text": [
            "!%F=-?Pst970                    \n",
            "b'!%F=-?Pst970                    '\n",
            "b'Gn/SNYsszWj/k6Pj7SiLmeOWoX+UZuuhTwklO8rQCBA='\n",
            "b'Gautam Pala'\n"
          ],
          "name": "stdout"
        }
      ]
    },
    {
      "cell_type": "code",
      "metadata": {
        "id": "N8EWOnZ6qosm",
        "colab_type": "code",
        "colab": {}
      },
      "source": [
        "\n",
        "\n",
        "\n",
        "\n",
        "\n",
        "\n",
        "\n",
        "\n",
        "\n",
        "\n",
        "\n",
        "\n",
        "\n",
        "\n",
        "\n"
      ],
      "execution_count": 0,
      "outputs": []
    }
  ]
}