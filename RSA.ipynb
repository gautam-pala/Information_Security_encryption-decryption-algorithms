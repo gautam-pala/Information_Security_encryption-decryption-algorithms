{
  "nbformat": 4,
  "nbformat_minor": 0,
  "metadata": {
    "colab": {
      "name": "RSA.ipynb",
      "provenance": [],
      "collapsed_sections": []
    },
    "kernelspec": {
      "name": "python3",
      "display_name": "Python 3"
    }
  },
  "cells": [
    {
      "cell_type": "code",
      "metadata": {
        "id": "iPkUORQQyZij",
        "colab_type": "code",
        "outputId": "807d093c-cc90-49e2-bc8b-44e707023f2f",
        "colab": {
          "base_uri": "https://localhost:8080/",
          "height": 34
        }
      },
      "source": [
        "pip install pycrypto"
      ],
      "execution_count": 0,
      "outputs": [
        {
          "output_type": "stream",
          "text": [
            "Requirement already satisfied: pycrypto in /usr/local/lib/python3.6/dist-packages (2.6.1)\n"
          ],
          "name": "stdout"
        }
      ]
    },
    {
      "cell_type": "code",
      "metadata": {
        "id": "aH5OKWyFyawQ",
        "colab_type": "code",
        "outputId": "7b3dc322-c26e-4bfc-d9da-f7f64fc50138",
        "colab": {
          "base_uri": "https://localhost:8080/",
          "height": 71
        }
      },
      "source": [
        "from Crypto.PublicKey import RSA\n",
        "\n",
        "private_key = RSA.generate(2048)\n",
        "public_key = private_key.publickey()\n",
        "\n",
        "text = \"Gautam Pala\"\n",
        "cipher = public_key.encrypt(text.encode(\"utf8\"),32)[0]\n",
        "print(cipher)\n",
        "dec = private_key.decrypt(cipher)\n",
        "print(dec)"
      ],
      "execution_count": 0,
      "outputs": [
        {
          "output_type": "stream",
          "text": [
            "b'\\xc4\\x1bl\\xae9\\x7f\\xd2(\\xc8\\x9e\\xfa\\x81\\xf6\\xaa\\xa4\\xb2\\xfb\\xaf\\x90\\xfb\\xe1\\x96P_\\x80\\x12\\x13\\x98\\n\\x89\\xbb\\xac\\x1ar\\x920\\xde\\x7fJ\\xaa5c{r\\xbf\\xdf\\xcc{{\\xbb\\xdc\\xcf&\\xac\\xff\\xf6B\\x15@bY\\xa3b\\xba\\r\\xee\\xd9\\x83\\xde]\\x85k}2^3>\\xba*Z\\xbf;\\xe0\\xe1[\\x98\\xad\\x0fx\\xec\\xab\\xc6\\xc3\\rz\\x92H\\x98\\x10\\xc8l\\xba\\xbe\\x10WqK\\xc6\"\\x97X\\x81\\xbb\\n\\xdf\\xb7\\x91h\\xf9<\\x1c\\x01W@F\\xc6\\x03\\x97\\xb4\\xfe\\x04\\xabvm\\xfd/aF`\\xa1c\\xbc\\xb9y`\\xe3\\xed\\x98\\xcd\\x91\\xde\\x15\\xb7yP\\xf9\\xb2\\xd7p\\x8a]d\\xf7\\xf2\\xca`\\xfc\\x94\\xdfP_d\\xa4\\xda\\xa0\\x99\\x8c\\x9e\\xc2\\x90\\x02\\xeda\\xb5\\x90[ \\x98\\x13\\xf8\\x00V\\xb2gG\\xffW\\xc7\\xe0\\xcb\\xa3\\xa7\\xfa\\x89O\\x805\\xf3\\x1e\\xea;_$n6P9U\\x95\\x99\\xd6\\xe7\\x15[\\xb4,]j\\xa7w+\\xa4\\x92\\x99$\\xc8T\\x0bW\\x8c\\x87\\xbb-7\\xba$\\t+\\x9d?\\xf8\\xa8_\\x8a\\x92\\xf6'\n",
            "b'Gautam Pala'\n"
          ],
          "name": "stdout"
        }
      ]
    },
    {
      "cell_type": "code",
      "metadata": {
        "id": "ccoSLvur0pGf",
        "colab_type": "code",
        "colab": {}
      },
      "source": [
        ""
      ],
      "execution_count": 0,
      "outputs": []
    }
  ]
}